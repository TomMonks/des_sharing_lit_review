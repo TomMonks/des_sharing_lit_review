{
 "cells": [
  {
   "cell_type": "markdown",
   "id": "92fc4f0d-8f85-4c79-9a1a-6fd8835d11ed",
   "metadata": {},
   "source": [
    "# Model execution\n",
    "\n",
    "This notebook provides an analysis of the sharing of models against our best practices for enabling other to use and execute the simulation model.  In summary this is defined as:\n",
    "\n",
    "1. The authors provide a readme or other obvious instruction file for users to consult; \n",
    "2. The authors provide step by step instructions to run the DES model;\n",
    "3. Models are shared with either informal or formal software dependency management; \n",
    "4. Models are shared with details of model and/or code testing;\n",
    "5. The model or model code is downloadable to enable local execution;\n",
    "6. The model is shared in a manner that enables execution online without the need to install locally.\n",
    "\n",
    "## Notebook aims\n",
    "\n",
    "The notebook analyses the following questions related to best practice:\n",
    "\n",
    "1.  What proportion of the shared model artefacts have a readme or equivalent file?\n",
    "2.  What proportion of artefacts have step by step instructions to use them?\n",
    "3.  What proportion of models have formal and informal dependency management included?\n",
    "4.  What proportion of models are shared with evidence that they have been tested?\n",
    "\n",
    "Given the findings we also report the following exploratory questions\n",
    "\n",
    "5.  How are models developed in a VIM that cannot be downloaded shared?\n",
    "6. What coding languages provided dependency management?\n",
    "\n",
    "\n",
    "## Data used in analysis\n",
    "\n",
    "The dataset is a subset of the main review - limited to models shared.  The type of model shared is coded as **Visual Interactive Modelling (VIM)** based (e.g Anylogic, Simul8, Arena) versus **CODE** (e.g. Matlab, Python, SimPy, Java, R Simmer).\n",
    "\n",
    "> The data can be found here: https://raw.githubusercontent.com/TomMonks/des_sharing_lit_review/main/data/bp_audit.zip\n",
    "\n",
    "The following fields are analysed in this notebook.\n",
    "\n",
    "* `model_format` - VIM or CODE\n",
    "* `readme` - is there an obvious file(s) where a user would look first? (0/1)             \n",
    "* `steps_run` - are there steps to run a model? (0/1)\n",
    "* `formal_dep_mgt` - has the model been shared with formal software dependency management? (0/1)\n",
    "* `informal_dep_mgt` - have any informal methods of dependency management been shared?  E.g. a list of software requirements. (0/1)\n",
    "* `evidence_testing` - do the model and artefacts in the repository contain any evidence that they have been tested? (0/1)\n",
    "* `downloadable` - can the model and artefacts be downloaded and executed locally? (0/1)\n",
    "* `interactive_online` - can the model and its artefacts be executed online without local installation? (0/1)\n",
    "* `model_archive` - name of archive if used (0/1)\n",
    "* `model_repo` - name of model repo if used (0/1)\n",
    "* `model_journal_supp` - what is stored in the journal supplementary material  (0/1)\n",
    "* `model_personal_org` - name of personal or organisational website if used (0/1)\n",
    "* `model_platform` - name of cloud platform used (e.g. Binder or Anylogic cloud) (0/1)|"
   ]
  },
  {
   "cell_type": "markdown",
   "id": "a82520b6-6cb1-4155-8dd5-726db03fd373",
   "metadata": {},
   "source": [
    "## 1. Imports\n",
    "\n",
    "### 1.1. Standard"
   ]
  },
  {
   "cell_type": "code",
   "execution_count": 1,
   "id": "4ce538b3-d1b8-4b76-856a-55149c1ce558",
   "metadata": {},
   "outputs": [],
   "source": [
    "import pandas as pd\n",
    "import numpy as np"
   ]
  },
  {
   "cell_type": "markdown",
   "id": "26f7431d-fb28-4b49-adca-987246ec9c0a",
   "metadata": {},
   "source": [
    "### 1.2 Preprocessing"
   ]
  },
  {
   "cell_type": "code",
   "execution_count": 2,
   "id": "8334b652-4311-4ab5-b5f2-efc28c7c3941",
   "metadata": {},
   "outputs": [],
   "source": [
    "from preprocessing import load_clean_bpa, drop_columns"
   ]
  },
  {
   "cell_type": "markdown",
   "id": "e8a631f0-470d-4d13-8ae2-e8f3eafe15dd",
   "metadata": {},
   "source": [
    "## 2. Constants"
   ]
  },
  {
   "cell_type": "code",
   "execution_count": 3,
   "id": "0e270ccf-cc5d-495d-8687-b5399a91ab1d",
   "metadata": {},
   "outputs": [],
   "source": [
    "FILE_NAME = 'https://raw.githubusercontent.com/TomMonks/' \\\n",
    "    + 'des_sharing_lit_review/main/data/bp_audit.zip'"
   ]
  },
  {
   "cell_type": "markdown",
   "id": "b6991d08-ef78-4ac5-89bb-dcfd296477ff",
   "metadata": {},
   "source": [
    "## 3. Analysis functions\n",
    "\n",
    "A number of simple functions to conduct the analysis and format output."
   ]
  },
  {
   "cell_type": "code",
   "execution_count": 4,
   "id": "414310b0-c81f-46a6-8c8e-4441af59e352",
   "metadata": {},
   "outputs": [],
   "source": [
    "def balance_of_model_format(df):\n",
    "    '''\n",
    "    REturns the counts of VIM versus code\n",
    "    \n",
    "    Params:\n",
    "    -------\n",
    "    df: pd.DataFrame\n",
    "        Subset of the best practice dataset to analyse\n",
    "        \n",
    "    Returns:\n",
    "    (labels: List, counts: List)\n",
    "    '''\n",
    "    unique_elements, counts_elements = np.unique(df['model_format'], \n",
    "                                                 return_counts=True)\n",
    "    return unique_elements, counts_elements"
   ]
  },
  {
   "cell_type": "code",
   "execution_count": 5,
   "id": "55d965fa-34f1-428d-87f1-3d38ff8e4af6",
   "metadata": {},
   "outputs": [],
   "source": [
    "def category_frequencies_by_model_format(df, cols):\n",
    "    '''\n",
    "    Calculate the frequencies of 0/1s for VIM versus code.\n",
    "    Return concatenated in a pandas dataframe\n",
    "    \n",
    "    Params:\n",
    "    ------\n",
    "    df: pd.DataFrame\n",
    "        DAtaframe containing subset of best practice audit to summarise.\n",
    "    \n",
    "    Returns:\n",
    "    -------\n",
    "    pd.DataFrame\n",
    "    '''\n",
    "\n",
    "    # key to select fields where category is 1.\n",
    "    key = [('CODE', 1), ('VIM', 1)]\n",
    "\n",
    "    df = pd.DataFrame()\n",
    "\n",
    "    # operation needs to be done separetly on each criteria then combined.\n",
    "    for col in list(clean[cols]):\n",
    "        # group by VIM and code and get frequencies of 1/0\n",
    "        results = clean.groupby('model_format')[col].value_counts(dropna=False)\n",
    "        # concat to single dataframe\n",
    "        df = pd.concat([df, results.loc[key]], axis=1)\n",
    "        \n",
    "    # drop multi-index, transpose and relabel\n",
    "    df = df.reset_index()\n",
    "    df = df.T\n",
    "    df = df.drop(['level_0', 'level_1'])\n",
    "    df.columns = ['CODE', 'VIM']\n",
    "    \n",
    "    # add percentages\n",
    "    # get total number of code and vim based models.\n",
    "    _, (n_code, n_vim) = balance_of_model_format(clean)\n",
    "    per_cols = ['CODE_%', 'VIM_%']\n",
    "    df[per_cols[0]] = (df['CODE'] / n_code * 100).map('{:,.1f}'.format)\n",
    "    df[per_cols[1]] = (df['VIM'] / n_vim * 100).map('{:,.1f}'.format)\n",
    "    \n",
    "    return df"
   ]
  },
  {
   "cell_type": "markdown",
   "id": "0b1c0313-6d4d-44d2-9777-ef8839a2c3b9",
   "metadata": {},
   "source": [
    "## 4. Load and inspect dataset\n",
    "\n",
    "The clean data set has 27 fields included.  These are listed below.  "
   ]
  },
  {
   "cell_type": "code",
   "execution_count": 6,
   "id": "1da17cf0-0f47-4520-969f-4f47d089a6fe",
   "metadata": {},
   "outputs": [
    {
     "name": "stdout",
     "output_type": "stream",
     "text": [
      "<class 'pandas.core.frame.DataFrame'>\n",
      "RangeIndex: 44 entries, 0 to 43\n",
      "Data columns (total 27 columns):\n",
      " #   Column                        Non-Null Count  Dtype   \n",
      "---  ------                        --------------  -----   \n",
      " 0   model_format                  44 non-null     category\n",
      " 1   key                           44 non-null     object  \n",
      " 2   item_type                     44 non-null     category\n",
      " 3   pub_yr                        44 non-null     int64   \n",
      " 4   author                        44 non-null     object  \n",
      " 5   doi                           43 non-null     object  \n",
      " 6   reporting_guidelines_mention  44 non-null     category\n",
      " 7   covid                         44 non-null     category\n",
      " 8   sim_software                  44 non-null     object  \n",
      " 9   foss_sim                      44 non-null     category\n",
      " 10  model_archive                 5 non-null      object  \n",
      " 11  model_repo                    20 non-null     object  \n",
      " 12  model_journal_supp            9 non-null      object  \n",
      " 13  model_personal_org            5 non-null      object  \n",
      " 14  model_platform                11 non-null     object  \n",
      " 15  github_url                    20 non-null     object  \n",
      " 16  model_has_doi                 44 non-null     category\n",
      " 17  orcid                         43 non-null     category\n",
      " 18  license                       44 non-null     object  \n",
      " 19  readme                        44 non-null     category\n",
      " 20  link_to_paper                 34 non-null     category\n",
      " 21  steps_run                     44 non-null     category\n",
      " 22  formal_dep_mgt                44 non-null     category\n",
      " 23  informal_dep_mgt              44 non-null     category\n",
      " 24  evidence_testing              23 non-null     category\n",
      " 25  downloadable                  44 non-null     category\n",
      " 26  interactive_online            44 non-null     category\n",
      "dtypes: category(15), int64(1), object(11)\n",
      "memory usage: 6.8+ KB\n"
     ]
    }
   ],
   "source": [
    "clean = load_clean_bpa(FILE_NAME)\n",
    "clean.info()"
   ]
  },
  {
   "cell_type": "markdown",
   "id": "06d5e47e-da99-46df-81c0-9e37806b7cec",
   "metadata": {},
   "source": [
    "## 5. Results\n",
    "\n",
    "### 5.1. Overview split by Code and VIM models"
   ]
  },
  {
   "cell_type": "code",
   "execution_count": 7,
   "id": "a6743f30-184c-4691-a264-4c5797b0d27d",
   "metadata": {},
   "outputs": [
    {
     "data": {
      "text/html": [
       "<div>\n",
       "<style scoped>\n",
       "    .dataframe tbody tr th:only-of-type {\n",
       "        vertical-align: middle;\n",
       "    }\n",
       "\n",
       "    .dataframe tbody tr th {\n",
       "        vertical-align: top;\n",
       "    }\n",
       "\n",
       "    .dataframe thead th {\n",
       "        text-align: right;\n",
       "    }\n",
       "</style>\n",
       "<table border=\"1\" class=\"dataframe\">\n",
       "  <thead>\n",
       "    <tr style=\"text-align: right;\">\n",
       "      <th></th>\n",
       "      <th>CODE</th>\n",
       "      <th>VIM</th>\n",
       "      <th>CODE_%</th>\n",
       "      <th>VIM_%</th>\n",
       "    </tr>\n",
       "  </thead>\n",
       "  <tbody>\n",
       "    <tr>\n",
       "      <th>readme</th>\n",
       "      <td>21</td>\n",
       "      <td>7</td>\n",
       "      <td>72.4</td>\n",
       "      <td>46.7</td>\n",
       "    </tr>\n",
       "    <tr>\n",
       "      <th>steps_run</th>\n",
       "      <td>13</td>\n",
       "      <td>3</td>\n",
       "      <td>44.8</td>\n",
       "      <td>20.0</td>\n",
       "    </tr>\n",
       "    <tr>\n",
       "      <th>formal_dep_mgt</th>\n",
       "      <td>7</td>\n",
       "      <td>0</td>\n",
       "      <td>24.1</td>\n",
       "      <td>0.0</td>\n",
       "    </tr>\n",
       "    <tr>\n",
       "      <th>informal_dep_mgt</th>\n",
       "      <td>7</td>\n",
       "      <td>8</td>\n",
       "      <td>24.1</td>\n",
       "      <td>53.3</td>\n",
       "    </tr>\n",
       "    <tr>\n",
       "      <th>evidence_testing</th>\n",
       "      <td>3</td>\n",
       "      <td>0</td>\n",
       "      <td>10.3</td>\n",
       "      <td>0.0</td>\n",
       "    </tr>\n",
       "    <tr>\n",
       "      <th>downloadable</th>\n",
       "      <td>29</td>\n",
       "      <td>10</td>\n",
       "      <td>100.0</td>\n",
       "      <td>66.7</td>\n",
       "    </tr>\n",
       "    <tr>\n",
       "      <th>interactive_online</th>\n",
       "      <td>4</td>\n",
       "      <td>6</td>\n",
       "      <td>13.8</td>\n",
       "      <td>40.0</td>\n",
       "    </tr>\n",
       "  </tbody>\n",
       "</table>\n",
       "</div>"
      ],
      "text/plain": [
       "                   CODE VIM CODE_% VIM_%\n",
       "readme               21   7   72.4  46.7\n",
       "steps_run            13   3   44.8  20.0\n",
       "formal_dep_mgt        7   0   24.1   0.0\n",
       "informal_dep_mgt      7   8   24.1  53.3\n",
       "evidence_testing      3   0   10.3   0.0\n",
       "downloadable         29  10  100.0  66.7\n",
       "interactive_online    4   6   13.8  40.0"
      ]
     },
     "execution_count": 7,
     "metadata": {},
     "output_type": "execute_result"
    }
   ],
   "source": [
    "cols = ['readme', 'steps_run', 'formal_dep_mgt', 'informal_dep_mgt', \n",
    "        'evidence_testing', 'downloadable', 'interactive_online']\n",
    "\n",
    "category_frequencies_by_model_format(clean, cols)"
   ]
  },
  {
   "cell_type": "markdown",
   "id": "16b15269-e34c-471b-b5ce-4a30967bf0c8",
   "metadata": {},
   "source": [
    "### 5.2 How are models developed in a VIM that cannot be downloaded shared?"
   ]
  },
  {
   "cell_type": "code",
   "execution_count": 8,
   "id": "def1f911-c4e0-4d73-8a6d-56fa7bcc6395",
   "metadata": {},
   "outputs": [
    {
     "data": {
      "text/plain": [
       "5"
      ]
     },
     "execution_count": 8,
     "metadata": {},
     "output_type": "execute_result"
    }
   ],
   "source": [
    "vim_non_downloads = clean[(clean['model_format'] == 'VIM') \n",
    "                          & (clean['downloadable'] == 0)]\n",
    "\n",
    "# number of models that cannot be downloaded.\n",
    "vim_non_downloads.shape[0]"
   ]
  },
  {
   "cell_type": "code",
   "execution_count": 9,
   "id": "d7d9aed9-71e1-4b6b-a00e-894259dfb063",
   "metadata": {},
   "outputs": [
    {
     "data": {
      "text/html": [
       "<div>\n",
       "<style scoped>\n",
       "    .dataframe tbody tr th:only-of-type {\n",
       "        vertical-align: middle;\n",
       "    }\n",
       "\n",
       "    .dataframe tbody tr th {\n",
       "        vertical-align: top;\n",
       "    }\n",
       "\n",
       "    .dataframe thead th {\n",
       "        text-align: right;\n",
       "    }\n",
       "</style>\n",
       "<table border=\"1\" class=\"dataframe\">\n",
       "  <thead>\n",
       "    <tr style=\"text-align: right;\">\n",
       "      <th></th>\n",
       "      <th>model_archive</th>\n",
       "      <th>model_repo</th>\n",
       "      <th>model_journal_supp</th>\n",
       "      <th>model_personal_org</th>\n",
       "      <th>model_platform</th>\n",
       "    </tr>\n",
       "  </thead>\n",
       "  <tbody>\n",
       "    <tr>\n",
       "      <th>31</th>\n",
       "      <td>NaN</td>\n",
       "      <td>NaN</td>\n",
       "      <td>NaN</td>\n",
       "      <td>NaN</td>\n",
       "      <td>AnyLogic Cloud</td>\n",
       "    </tr>\n",
       "    <tr>\n",
       "      <th>33</th>\n",
       "      <td>NaN</td>\n",
       "      <td>NaN</td>\n",
       "      <td>NaN</td>\n",
       "      <td>NaN</td>\n",
       "      <td>AnyLogic Cloud</td>\n",
       "    </tr>\n",
       "    <tr>\n",
       "      <th>37</th>\n",
       "      <td>NaN</td>\n",
       "      <td>NaN</td>\n",
       "      <td>NaN</td>\n",
       "      <td>NaN</td>\n",
       "      <td>AnyLogic Cloud</td>\n",
       "    </tr>\n",
       "    <tr>\n",
       "      <th>38</th>\n",
       "      <td>NaN</td>\n",
       "      <td>NaN</td>\n",
       "      <td>NaN</td>\n",
       "      <td>NaN</td>\n",
       "      <td>AnyLogic Cloud</td>\n",
       "    </tr>\n",
       "    <tr>\n",
       "      <th>41</th>\n",
       "      <td>NaN</td>\n",
       "      <td>NaN</td>\n",
       "      <td>NaN</td>\n",
       "      <td>NaN</td>\n",
       "      <td>AnyLogic Cloud</td>\n",
       "    </tr>\n",
       "  </tbody>\n",
       "</table>\n",
       "</div>"
      ],
      "text/plain": [
       "   model_archive model_repo model_journal_supp model_personal_org  \\\n",
       "31           NaN        NaN                NaN                NaN   \n",
       "33           NaN        NaN                NaN                NaN   \n",
       "37           NaN        NaN                NaN                NaN   \n",
       "38           NaN        NaN                NaN                NaN   \n",
       "41           NaN        NaN                NaN                NaN   \n",
       "\n",
       "    model_platform  \n",
       "31  AnyLogic Cloud  \n",
       "33  AnyLogic Cloud  \n",
       "37  AnyLogic Cloud  \n",
       "38  AnyLogic Cloud  \n",
       "41  AnyLogic Cloud  "
      ]
     },
     "execution_count": 9,
     "metadata": {},
     "output_type": "execute_result"
    }
   ],
   "source": [
    "selected_columns = ['model_archive', 'model_repo', 'model_journal_supp',\n",
    "                    'model_personal_org', 'model_platform']\n",
    "\n",
    "vim_non_downloads[selected_columns]"
   ]
  },
  {
   "cell_type": "markdown",
   "id": "f43d739a-6bb9-43aa-ae74-e1b350416f25",
   "metadata": {},
   "source": [
    "All of the models that cannot be downloaded and used locally have been shared by AnyLogic Cloud.  "
   ]
  },
  {
   "cell_type": "markdown",
   "id": "611dea10-48c5-42ac-bcaa-42e63726ac5e",
   "metadata": {},
   "source": [
    "### 5.3 What coding languages provided dependency management?"
   ]
  },
  {
   "cell_type": "code",
   "execution_count": 10,
   "id": "7366d1bb-6dbb-45be-b704-fc39886fb376",
   "metadata": {},
   "outputs": [
    {
     "data": {
      "text/plain": [
       "7"
      ]
     },
     "execution_count": 10,
     "metadata": {},
     "output_type": "execute_result"
    }
   ],
   "source": [
    "code_formal_dept_mgts = clean[(clean['model_format'] == 'CODE') \n",
    "                              & (clean['formal_dep_mgt'] == 1)]\n",
    "\n",
    "# number of models with formal dependency management\n",
    "code_formal_dept_mgts.shape[0]"
   ]
  },
  {
   "cell_type": "code",
   "execution_count": 11,
   "id": "f30887a3-d5b8-44bb-abf1-55a520bb3717",
   "metadata": {},
   "outputs": [
    {
     "data": {
      "text/plain": [
       "2     R Simmer\n",
       "6     R Simmer\n",
       "7            R\n",
       "12           R\n",
       "17       SimPy\n",
       "21       SimPy\n",
       "27       SimPy\n",
       "Name: sim_software, dtype: object"
      ]
     },
     "execution_count": 11,
     "metadata": {},
     "output_type": "execute_result"
    }
   ],
   "source": [
    "code_formal_dept_mgts['sim_software']"
   ]
  }
 ],
 "metadata": {
  "kernelspec": {
   "display_name": "Python 3 (ipykernel)",
   "language": "python",
   "name": "python3"
  },
  "language_info": {
   "codemirror_mode": {
    "name": "ipython",
    "version": 3
   },
   "file_extension": ".py",
   "mimetype": "text/x-python",
   "name": "python",
   "nbconvert_exporter": "python",
   "pygments_lexer": "ipython3",
   "version": "3.9.15"
  }
 },
 "nbformat": 4,
 "nbformat_minor": 5
}
