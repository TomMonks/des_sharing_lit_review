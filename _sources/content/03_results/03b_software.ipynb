{
 "cells": [
  {
   "cell_type": "markdown",
   "id": "c6068afb",
   "metadata": {},
   "source": [
    "# Simulation software\n",
    "\n",
    "The results in this notebook do not directly answer any of our primary research questions.  The results support RQ2: \n",
    "\n",
    "> 2. What proportion of these papers that use Free and Open Source Simulation and of these what number are shared?\n",
    "\n",
    "The results also illustrate that ~12% of the literature do not report the simulation software used.\n"
   ]
  },
  {
   "cell_type": "markdown",
   "id": "3a034af2",
   "metadata": {},
   "source": [
    "## 1. Imports \n",
    "\n",
    "### 1.1. Standard Imports"
   ]
  },
  {
   "cell_type": "code",
   "execution_count": 1,
   "id": "45a52a14",
   "metadata": {},
   "outputs": [],
   "source": [
    "import pandas as pd\n",
    "import numpy as np\n",
    "import matplotlib.pyplot as plt\n",
    "from matplotlib.ticker import MaxNLocator\n",
    "# set up plot style as ggplot\n",
    "plt.style.use('ggplot')"
   ]
  },
  {
   "cell_type": "markdown",
   "id": "b1560e13-c8b7-4fa9-a1b7-c6614ad0001c",
   "metadata": {},
   "source": [
    "## 1.2 Imports from preprocessing module"
   ]
  },
  {
   "cell_type": "code",
   "execution_count": 2,
   "id": "b2c8c53b-036c-476d-8fa9-d7d4573b0e27",
   "metadata": {},
   "outputs": [],
   "source": [
    "# function for loading full dataset\n",
    "from preprocessing import load_clean_dataset"
   ]
  },
  {
   "cell_type": "markdown",
   "id": "67a596c0",
   "metadata": {},
   "source": [
    "## 2. Constants"
   ]
  },
  {
   "cell_type": "code",
   "execution_count": 3,
   "id": "195aa1fa",
   "metadata": {},
   "outputs": [],
   "source": [
    "FILE_NAME = 'https://raw.githubusercontent.com/TomMonks/' \\\n",
    "    + 'des_sharing_lit_review/main/data/share_sim_data_extract.zip'\n",
    "\n",
    "RG_LABEL = 'reporting_guidelines_mention'\n",
    "NONE = 'None'\n",
    "WIDTH = 0.5"
   ]
  },
  {
   "cell_type": "markdown",
   "id": "ea389a17-9d5a-49be-9a67-a40075aa1647",
   "metadata": {
    "tags": []
   },
   "source": [
    "## 3. Functions\n",
    "\n",
    "### 3.1. Functions to create summary statistics\n",
    "\n",
    "Two functions are used together in order to generate the high level results by year. \n",
    "\n",
    "* `high_level_metrics` - takes a subgroup of the dataset and generates summary statistics and counts\n",
    "* `analysis_by_year` - loop through the years passing each to `high_levle_metrics` and concatenates datasets at the end."
   ]
  },
  {
   "cell_type": "code",
   "execution_count": 4,
   "id": "25a8d48f-ea36-4c01-8682-4023a1ea4f77",
   "metadata": {},
   "outputs": [],
   "source": [
    "def software_count(column, threshold=2):\n",
    "    \"\"\"\n",
    "    Return a count of simulation software.\n",
    "    \n",
    "    If the count of software is less than 2 the it is labelled as 'Other' \n",
    "    \n",
    "    Params:\n",
    "    -------\n",
    "    column: pandas Series\n",
    "    \n",
    "    Returns:\n",
    "    -------\n",
    "    pd.DataFrame\n",
    "    \"\"\"\n",
    "    counts = column.value_counts().to_frame().reset_index()\n",
    "    counts.columns = ['software', 'count']\n",
    "    summarised = counts[counts['count'] <= threshold].sum()\n",
    "    counts.loc[counts['count'] <= threshold, 'software'] = 'Other'\n",
    "    counts = counts.groupby('software').sum()\n",
    "    counts.loc['Other'] = summarised\n",
    "\n",
    "    return counts\n",
    "\n"
   ]
  },
  {
   "cell_type": "markdown",
   "id": "33672ad4-a028-4435-adb3-749ddc219e9c",
   "metadata": {},
   "source": [
    "## 4. Read in data"
   ]
  },
  {
   "cell_type": "code",
   "execution_count": 5,
   "id": "857e5149-7c7d-4a86-b499-0acf9bd15908",
   "metadata": {},
   "outputs": [],
   "source": [
    "clean = load_clean_dataset(FILE_NAME)"
   ]
  },
  {
   "cell_type": "markdown",
   "id": "727c8ba3-160b-49d1-ac11-ccf3248ca3d6",
   "metadata": {},
   "source": [
    "## 5. Results\n",
    "\n",
    "### 5.1 Overall summary table"
   ]
  },
  {
   "cell_type": "code",
   "execution_count": 6,
   "id": "6421c9ab-c7ce-4f7e-9fe1-67feb7370859",
   "metadata": {},
   "outputs": [
    {
     "data": {
      "text/html": [
       "<div>\n",
       "<style scoped>\n",
       "    .dataframe tbody tr th:only-of-type {\n",
       "        vertical-align: middle;\n",
       "    }\n",
       "\n",
       "    .dataframe tbody tr th {\n",
       "        vertical-align: top;\n",
       "    }\n",
       "\n",
       "    .dataframe thead th {\n",
       "        text-align: right;\n",
       "    }\n",
       "</style>\n",
       "<table border=\"1\" class=\"dataframe\">\n",
       "  <thead>\n",
       "    <tr style=\"text-align: right;\">\n",
       "      <th></th>\n",
       "      <th>count</th>\n",
       "      <th>n(\\%)</th>\n",
       "    </tr>\n",
       "    <tr>\n",
       "      <th>software</th>\n",
       "      <th></th>\n",
       "      <th></th>\n",
       "    </tr>\n",
       "  </thead>\n",
       "  <tbody>\n",
       "    <tr>\n",
       "      <th>Arena</th>\n",
       "      <td>119</td>\n",
       "      <td>21.1</td>\n",
       "    </tr>\n",
       "    <tr>\n",
       "      <th>AnyLogic</th>\n",
       "      <td>76</td>\n",
       "      <td>13.5</td>\n",
       "    </tr>\n",
       "    <tr>\n",
       "      <th>Unknown</th>\n",
       "      <td>64</td>\n",
       "      <td>11.3</td>\n",
       "    </tr>\n",
       "    <tr>\n",
       "      <th>Simul8</th>\n",
       "      <td>51</td>\n",
       "      <td>9.0</td>\n",
       "    </tr>\n",
       "    <tr>\n",
       "      <th>Other</th>\n",
       "      <td>39</td>\n",
       "      <td>6.9</td>\n",
       "    </tr>\n",
       "    <tr>\n",
       "      <th>R</th>\n",
       "      <td>34</td>\n",
       "      <td>6.0</td>\n",
       "    </tr>\n",
       "    <tr>\n",
       "      <th>FlexSim</th>\n",
       "      <td>22</td>\n",
       "      <td>3.9</td>\n",
       "    </tr>\n",
       "    <tr>\n",
       "      <th>Excel</th>\n",
       "      <td>21</td>\n",
       "      <td>3.7</td>\n",
       "    </tr>\n",
       "    <tr>\n",
       "      <th>Simio</th>\n",
       "      <td>21</td>\n",
       "      <td>3.7</td>\n",
       "    </tr>\n",
       "    <tr>\n",
       "      <th>MATLAB</th>\n",
       "      <td>19</td>\n",
       "      <td>3.4</td>\n",
       "    </tr>\n",
       "    <tr>\n",
       "      <th>SimPy</th>\n",
       "      <td>18</td>\n",
       "      <td>3.2</td>\n",
       "    </tr>\n",
       "    <tr>\n",
       "      <th>R Simmer</th>\n",
       "      <td>15</td>\n",
       "      <td>2.7</td>\n",
       "    </tr>\n",
       "    <tr>\n",
       "      <th>TreeAge</th>\n",
       "      <td>14</td>\n",
       "      <td>2.5</td>\n",
       "    </tr>\n",
       "    <tr>\n",
       "      <th>Python</th>\n",
       "      <td>10</td>\n",
       "      <td>1.8</td>\n",
       "    </tr>\n",
       "    <tr>\n",
       "      <th>ExtendSim</th>\n",
       "      <td>6</td>\n",
       "      <td>1.1</td>\n",
       "    </tr>\n",
       "    <tr>\n",
       "      <th>C++</th>\n",
       "      <td>6</td>\n",
       "      <td>1.1</td>\n",
       "    </tr>\n",
       "    <tr>\n",
       "      <th>MedModel</th>\n",
       "      <td>5</td>\n",
       "      <td>0.9</td>\n",
       "    </tr>\n",
       "    <tr>\n",
       "      <th>Flexsim</th>\n",
       "      <td>5</td>\n",
       "      <td>0.9</td>\n",
       "    </tr>\n",
       "    <tr>\n",
       "      <th>ProModel</th>\n",
       "      <td>4</td>\n",
       "      <td>0.7</td>\n",
       "    </tr>\n",
       "    <tr>\n",
       "      <th>Salabim</th>\n",
       "      <td>4</td>\n",
       "      <td>0.7</td>\n",
       "    </tr>\n",
       "    <tr>\n",
       "      <th>Plant Simulation</th>\n",
       "      <td>3</td>\n",
       "      <td>0.5</td>\n",
       "    </tr>\n",
       "    <tr>\n",
       "      <th>WITNESS</th>\n",
       "      <td>3</td>\n",
       "      <td>0.5</td>\n",
       "    </tr>\n",
       "    <tr>\n",
       "      <th>anyLogistix</th>\n",
       "      <td>3</td>\n",
       "      <td>0.5</td>\n",
       "    </tr>\n",
       "    <tr>\n",
       "      <th>iGrafx</th>\n",
       "      <td>3</td>\n",
       "      <td>0.5</td>\n",
       "    </tr>\n",
       "  </tbody>\n",
       "</table>\n",
       "</div>"
      ],
      "text/plain": [
       "                  count  n(\\%)\n",
       "software                      \n",
       "Arena               119   21.1\n",
       "AnyLogic             76   13.5\n",
       "Unknown              64   11.3\n",
       "Simul8               51    9.0\n",
       "Other                39    6.9\n",
       "R                    34    6.0\n",
       "FlexSim              22    3.9\n",
       "Excel                21    3.7\n",
       "Simio                21    3.7\n",
       "MATLAB               19    3.4\n",
       "SimPy                18    3.2\n",
       "R Simmer             15    2.7\n",
       "TreeAge              14    2.5\n",
       "Python               10    1.8\n",
       "ExtendSim             6    1.1\n",
       "C++                   6    1.1\n",
       "MedModel              5    0.9\n",
       "Flexsim               5    0.9\n",
       "ProModel              4    0.7\n",
       "Salabim               4    0.7\n",
       "Plant Simulation      3    0.5\n",
       "WITNESS               3    0.5\n",
       "anyLogistix           3    0.5\n",
       "iGrafx                3    0.5"
      ]
     },
     "execution_count": 6,
     "metadata": {},
     "output_type": "execute_result"
    }
   ],
   "source": [
    "software_counts = software_count(clean['sim_software'], threshold=2)\n",
    "software_counts['n(\\%)'] = \\\n",
    "    software_counts['count'] / software_counts['count'].sum() *100\n",
    "software_counts = software_counts.sort_values('count', ascending=False)\n",
    "software_counts['n(\\%)'] = software_counts['n(\\%)'].round(1)\n",
    "software_counts"
   ]
  },
  {
   "cell_type": "markdown",
   "id": "e2ad82e0-4dd3-4a42-acb9-a6654cc72741",
   "metadata": {},
   "source": [
    "## 6. Output to LaTeX"
   ]
  },
  {
   "cell_type": "code",
   "execution_count": 7,
   "id": "bca36e5c-4101-41cc-b0f4-f7f3ba463426",
   "metadata": {},
   "outputs": [
    {
     "name": "stdout",
     "output_type": "stream",
     "text": [
      "\\begin{table}\n",
      "\\caption{Software used in DES healthcare studies}\n",
      "\\label{DES Software}\n",
      "\\begin{tabular}{lrr}\n",
      "\\toprule\n",
      " & count & n(\\%) \\\\\n",
      "software &  &  \\\\\n",
      "\\midrule\n",
      "Arena & 119 & 21.100000 \\\\\n",
      "AnyLogic & 76 & 13.500000 \\\\\n",
      "Unknown & 64 & 11.300000 \\\\\n",
      "Simul8 & 51 & 9.000000 \\\\\n",
      "Other & 39 & 6.900000 \\\\\n",
      "R & 34 & 6.000000 \\\\\n",
      "FlexSim & 22 & 3.900000 \\\\\n",
      "Excel & 21 & 3.700000 \\\\\n",
      "Simio & 21 & 3.700000 \\\\\n",
      "MATLAB & 19 & 3.400000 \\\\\n",
      "SimPy & 18 & 3.200000 \\\\\n",
      "R Simmer & 15 & 2.700000 \\\\\n",
      "TreeAge & 14 & 2.500000 \\\\\n",
      "Python & 10 & 1.800000 \\\\\n",
      "ExtendSim & 6 & 1.100000 \\\\\n",
      "C++ & 6 & 1.100000 \\\\\n",
      "MedModel & 5 & 0.900000 \\\\\n",
      "Flexsim & 5 & 0.900000 \\\\\n",
      "ProModel & 4 & 0.700000 \\\\\n",
      "Salabim & 4 & 0.700000 \\\\\n",
      "Plant Simulation & 3 & 0.500000 \\\\\n",
      "WITNESS & 3 & 0.500000 \\\\\n",
      "anyLogistix & 3 & 0.500000 \\\\\n",
      "iGrafx & 3 & 0.500000 \\\\\n",
      "\\bottomrule\n",
      "\\end{tabular}\n",
      "\\end{table}\n",
      "\n"
     ]
    }
   ],
   "source": [
    "print(software_counts.style.to_latex(hrules=True, \n",
    "                                   label=\"DES Software\", \n",
    "                    caption=\"Software used in DES healthcare studies\"))"
   ]
  },
  {
   "cell_type": "code",
   "execution_count": null,
   "id": "4afac90f-9317-4b89-b463-024d1f13126c",
   "metadata": {},
   "outputs": [],
   "source": []
  }
 ],
 "metadata": {
  "kernelspec": {
   "display_name": "Python 3 (ipykernel)",
   "language": "python",
   "name": "python3"
  },
  "language_info": {
   "codemirror_mode": {
    "name": "ipython",
    "version": 3
   },
   "file_extension": ".py",
   "mimetype": "text/x-python",
   "name": "python",
   "nbconvert_exporter": "python",
   "pygments_lexer": "ipython3",
   "version": "3.9.15"
  }
 },
 "nbformat": 4,
 "nbformat_minor": 5
}
