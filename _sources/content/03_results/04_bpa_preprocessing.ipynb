{
 "cells": [
  {
   "cell_type": "markdown",
   "id": "92fc4f0d-8f85-4c79-9a1a-6fd8835d11ed",
   "metadata": {},
   "source": [
    "# Preprocessing\n",
    "\n",
    "This notebook provides an overview of the code to read in the data extracted from the **best practice audit** of model sharing. \n",
    "\n",
    "The dataset is a subset of the main review - limited to models shared.  The type of model shared is coded as **Visual Interactive Modelling (VIM)** based (e.g Anylogic, Simul8, Arena) versus **CODE** (e.g. Matlab, Python, SimPy, Java, R Simmer).\n",
    "\n",
    "Additional fields have been extracted as part of the best practice review.\n",
    "\n",
    "* `model_format` - VIM or CODE\n",
    "* `model_has_doi`  - do the model artefacts have their own minted DOI? (0/1)\n",
    "* `orcid` - do the researchers provide an ORCID with the model? (0/1)\n",
    "* `license` - does the model have an explicit license defining how it can be used? (str)\n",
    "* `readme` - is there an obvious file(s) where a user would look first? (0/1)             \n",
    "* `link_to_paper` - does the model repository contain a link back to the pre-print or peer reviewed article? (0/1)\n",
    "* `steps_run` - are there steps to run a model? (0/1)\n",
    "* `formal_dep_mgt` - has the model been shared with formal software dependency management? (0/1)\n",
    "* `informal_dep_mgt` - have any informal methods of dependency management been shared?  E.g. a list of software requirements. (0/1)\n",
    "* `evidence_testing` - do the model and artefacts in the repository contain any evidence that they have been tested? (0/1)\n",
    "* `downloadable` - can the model and artefacts be downloaded and executed locally? (0/1)\n",
    "* `interactive_online` - can the model and its artefacts be executed online without local installation? (0/1)"
   ]
  },
  {
   "cell_type": "markdown",
   "id": "a82520b6-6cb1-4155-8dd5-726db03fd373",
   "metadata": {},
   "source": [
    "## 1. Imports"
   ]
  },
  {
   "cell_type": "code",
   "execution_count": 1,
   "id": "4ce538b3-d1b8-4b76-856a-55149c1ce558",
   "metadata": {},
   "outputs": [],
   "source": [
    "import pandas as pd\n",
    "import numpy as np"
   ]
  },
  {
   "cell_type": "markdown",
   "id": "e8a631f0-470d-4d13-8ae2-e8f3eafe15dd",
   "metadata": {},
   "source": [
    "## 2. Constants"
   ]
  },
  {
   "cell_type": "code",
   "execution_count": 2,
   "id": "0e270ccf-cc5d-495d-8687-b5399a91ab1d",
   "metadata": {},
   "outputs": [],
   "source": [
    "FILE_NAME = 'https://raw.githubusercontent.com/TomMonks/' \\\n",
    "    + 'des_sharing_lit_review/main/data/bp_audit.zip'\n",
    "\n",
    "# used to drop redudant fields not needed in analysis.\n",
    "COLS_TO_DROP = [5, 6, 8, 18, 24, 29, 33]"
   ]
  },
  {
   "cell_type": "markdown",
   "id": "dd5f5c6d-25f7-4cef-bd6b-edbcb0ee18db",
   "metadata": {},
   "source": [
    "## 3. Functions to read and clean dataset"
   ]
  },
  {
   "cell_type": "code",
   "execution_count": 3,
   "id": "98d144b6-9aa1-4b05-88c5-529fb8a8f159",
   "metadata": {},
   "outputs": [],
   "source": [
    "def cols_to_lower(df):\n",
    "    '''\n",
    "    Convert all column names in a dataframe to lower case\n",
    "    \n",
    "    Params:\n",
    "    ------\n",
    "    df - pandas.DataFrame\n",
    "    \n",
    "    Returns:\n",
    "    -------\n",
    "    pandas.DataFrame\n",
    "    '''\n",
    "    new_cols = [c.lower() for c in df.columns]\n",
    "    df.columns = new_cols\n",
    "    return df"
   ]
  },
  {
   "cell_type": "code",
   "execution_count": 4,
   "id": "adb50f9f-1294-4536-8aaa-ff3bf8df34f4",
   "metadata": {},
   "outputs": [],
   "source": [
    "def drop_columns(df, to_drop):\n",
    "    '''\n",
    "    Remove fields that are not needed for the clean\n",
    "    analysis best practice dataset.\n",
    "    \n",
    "    Uses the COLS_TO_DROP constant list.\n",
    "    \n",
    "    Params:\n",
    "    -------\n",
    "    df - pd.DataFrame\n",
    "        The raw data\n",
    "    \n",
    "    Returns:\n",
    "    --------\n",
    "    pd.DataFrame\n",
    "    \n",
    "    '''\n",
    "    return df.drop(df.columns[to_drop], axis=1)"
   ]
  },
  {
   "cell_type": "code",
   "execution_count": 5,
   "id": "457020f7-5a39-488f-a116-94bb3045cf88",
   "metadata": {},
   "outputs": [],
   "source": [
    "def load_clean_bpa(file_name):\n",
    "    '''\n",
    "    Loads a cleaned verion of the BEST PRACTICE AUDIT dataset\n",
    "    \n",
    "    1.  Replaces space in the column names with \"_\" and renameds model doi col.\n",
    "    2.  Converts all column names to lower case\n",
    "    3.  Drop columns not needed for analysis\n",
    "    4.  Recode values in Janssen method columns\n",
    "    5.  Convert relevant cols to Categorical data type\n",
    "    6.  Performs remaining type conversions.\n",
    "    '''\n",
    "    \n",
    "    labels = {'DOI.1': 'model_has_doi',\n",
    "              'Item Type': 'item_type',\n",
    "              'Publication Year': 'pub_yr',\n",
    "              'Publication Title': 'pub_title'}\n",
    "    \n",
    "    recoded = {'model_repo': {'Github':'GitHub'},\n",
    "               'model_journal_supp': {'R model in word file':'Word doc'},\n",
    "               'model_personal_org': {'personex': 'Organisational website',\n",
    "                                      'Personex ': 'Organisational website',\n",
    "                'https://resp.core.ubc.ca/research/Specific_Projects/EPIC':\n",
    "                 'Organisational website'},\n",
    "               'model_platform':{'Anylogic Cloud': 'AnyLogic Cloud'}}\n",
    "    \n",
    "    clean = (pd.read_csv(file_name)\n",
    "               .rename(columns=labels)\n",
    "               .pipe(cols_to_lower)\n",
    "               .pipe(drop_columns, COLS_TO_DROP)\n",
    "               .replace(recoded)\n",
    "               .assign(model_format=lambda x: pd.Categorical(x['model_format']),\n",
    "                       reporting_guidelines_mention=lambda x: \n",
    "                           pd.Categorical(x['reporting_guidelines_mention']),\n",
    "                       covid=lambda x: pd.Categorical(x['covid']),\n",
    "                       foss_sim=lambda x: pd.Categorical(x['foss_sim']),\n",
    "                       item_type=lambda x: pd.Categorical(x['item_type']),\n",
    "                       model_has_doi=lambda x: \n",
    "                           pd.Categorical(x['model_has_doi']),\n",
    "                       orcid=lambda x: pd.Categorical(x['orcid']),\n",
    "                       readme=lambda x: pd.Categorical(x['readme']),\n",
    "                       link_to_paper=lambda x: \n",
    "                           pd.Categorical(x['link_to_paper']),\n",
    "                       steps_run=lambda x: pd.Categorical(x['steps_run']),\n",
    "                       formal_dep_mgt=lambda x: \n",
    "                           pd.Categorical(x['formal_dep_mgt']),\n",
    "                       informal_dep_mgt=lambda x: \n",
    "                           pd.Categorical(x['informal_dep_mgt']),\n",
    "                       evidence_testing=lambda x:\n",
    "                           pd.Categorical(x['evidence_testing']),\n",
    "                       downloadable=lambda x: \n",
    "                           pd.Categorical(x['downloadable']),\n",
    "                       interactive_online=lambda x: \n",
    "                           pd.Categorical(x['interactive_online']))\n",
    "            )\n",
    "    return clean\n",
    "        "
   ]
  },
  {
   "cell_type": "markdown",
   "id": "0b1c0313-6d4d-44d2-9777-ef8839a2c3b9",
   "metadata": {},
   "source": [
    "## 4. Example load and inspection of cleaned dataset\n",
    "\n",
    "## 4.2 Fields\n",
    "\n",
    "The clean data set has 27 fields included.  These are listed below.  "
   ]
  },
  {
   "cell_type": "code",
   "execution_count": 6,
   "id": "1da17cf0-0f47-4520-969f-4f47d089a6fe",
   "metadata": {},
   "outputs": [
    {
     "name": "stdout",
     "output_type": "stream",
     "text": [
      "<class 'pandas.core.frame.DataFrame'>\n",
      "RangeIndex: 44 entries, 0 to 43\n",
      "Data columns (total 27 columns):\n",
      " #   Column                        Non-Null Count  Dtype   \n",
      "---  ------                        --------------  -----   \n",
      " 0   model_format                  44 non-null     category\n",
      " 1   key                           44 non-null     object  \n",
      " 2   item_type                     44 non-null     category\n",
      " 3   pub_yr                        44 non-null     int64   \n",
      " 4   author                        44 non-null     object  \n",
      " 5   doi                           43 non-null     object  \n",
      " 6   reporting_guidelines_mention  44 non-null     category\n",
      " 7   covid                         44 non-null     category\n",
      " 8   sim_software                  44 non-null     object  \n",
      " 9   foss_sim                      44 non-null     category\n",
      " 10  model_archive                 5 non-null      object  \n",
      " 11  model_repo                    20 non-null     object  \n",
      " 12  model_journal_supp            9 non-null      object  \n",
      " 13  model_personal_org            5 non-null      object  \n",
      " 14  model_platform                11 non-null     object  \n",
      " 15  github_url                    20 non-null     object  \n",
      " 16  model_has_doi                 44 non-null     category\n",
      " 17  orcid                         43 non-null     category\n",
      " 18  license                       44 non-null     object  \n",
      " 19  readme                        44 non-null     category\n",
      " 20  link_to_paper                 34 non-null     category\n",
      " 21  steps_run                     44 non-null     category\n",
      " 22  formal_dep_mgt                44 non-null     category\n",
      " 23  informal_dep_mgt              44 non-null     category\n",
      " 24  evidence_testing              23 non-null     category\n",
      " 25  downloadable                  44 non-null     category\n",
      " 26  interactive_online            44 non-null     category\n",
      "dtypes: category(15), int64(1), object(11)\n",
      "memory usage: 6.8+ KB\n"
     ]
    }
   ],
   "source": [
    "clean = load_clean_bpa(FILE_NAME)\n",
    "clean.info()"
   ]
  },
  {
   "cell_type": "markdown",
   "id": "be11e141-869c-497e-a61d-3dc9f7e291ed",
   "metadata": {},
   "source": [
    "### 4.2. Balance of the classes in `model_format`"
   ]
  },
  {
   "cell_type": "code",
   "execution_count": 7,
   "id": "ece9b32e-564c-4e3e-b626-41acc975d3d5",
   "metadata": {},
   "outputs": [
    {
     "name": "stdout",
     "output_type": "stream",
     "text": [
      "['CODE' 'VIM'] [29 15]\n"
     ]
    }
   ],
   "source": [
    "unique_elements, counts_elements = np.unique(clean['model_format'], \n",
    "                                                   return_counts=True)\n",
    "print(unique_elements, counts_elements)\n"
   ]
  }
 ],
 "metadata": {
  "kernelspec": {
   "display_name": "Python 3 (ipykernel)",
   "language": "python",
   "name": "python3"
  },
  "language_info": {
   "codemirror_mode": {
    "name": "ipython",
    "version": 3
   },
   "file_extension": ".py",
   "mimetype": "text/x-python",
   "name": "python",
   "nbconvert_exporter": "python",
   "pygments_lexer": "ipython3",
   "version": "3.9.15"
  }
 },
 "nbformat": 4,
 "nbformat_minor": 5
}
