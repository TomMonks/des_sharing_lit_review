{
 "cells": [
  {
   "cell_type": "markdown",
   "id": "92fc4f0d-8f85-4c79-9a1a-6fd8835d11ed",
   "metadata": {},
   "source": [
    "# Open Research\n",
    "\n",
    "This notebook provides an analysis of the sharing of models against our best practices for open research.  In summary this is defined as:\n",
    "\n",
    "1. Shared models have their own DOI and hence guarantees on persistence;\n",
    "2. The authors of shared models and artefacts can be uniquely identified by ORCIDs;\n",
    "3. Models are shared with an open license that sets out how the model can be used/adapted, author liability and if credit is needed.\n",
    "\n",
    "## Notebook aims\n",
    "\n",
    "The notebook analyses the following questions related to best practice:\n",
    "\n",
    "1.  What proportion of the share model artefacts has a DOI and guarantees on persistence?\n",
    "2.  What proportion of artefacts are linked to the researcher via ORCID(s)?\n",
    "3.  What proportion of models have an open license?\n",
    "4.  When a model is licensed what was the most popular license?\n",
    "5.  How do licenses relate to approaches to sharing models?\n",
    "\n",
    "\n",
    "## Data used in analysis\n",
    "\n",
    "The dataset is a subset of the main review - limited to models shared.  The type of model shared is coded as **Visual Interactive Modelling (VIM)** based (e.g Anylogic, Simul8, Arena) versus **CODE** (e.g. Matlab, Python, SimPy, Java, R Simmer).\n",
    "\n",
    "> The data can be found here: https://raw.githubusercontent.com/TomMonks/des_sharing_lit_review/main/data/bp_audit.zip\n",
    "\n",
    "The following fields are analysed in this notebook.\n",
    "\n",
    "* `model_format` - VIM or CODE\n",
    "* `model_has_doi`  - do the model artefacts have their own minted DOI? (0/1)\n",
    "* `orcid` - do the researchers provide an ORCID with the model? (0/1)\n",
    "* `license` - does the model have an explicit license defining how it can be used? (str)\n",
    "* `model_archive` - name of archive if used (0/1)\n",
    "* `model_repo` - name of model repo if used (0/1)\n",
    "* `model_journal_supp` - what is stored in the journal supplementary material  (0/1)\n",
    "* `model_personal_org` - name of personal or organisational website if used (0/1)\n",
    "* `model_platform` - name of cloud platform used (e.g. Binder or Anylogic cloud) (0/1)|"
   ]
  },
  {
   "cell_type": "markdown",
   "id": "a82520b6-6cb1-4155-8dd5-726db03fd373",
   "metadata": {},
   "source": [
    "## 1. Imports\n",
    "\n",
    "### 1.1. Standard"
   ]
  },
  {
   "cell_type": "code",
   "execution_count": 1,
   "id": "4ce538b3-d1b8-4b76-856a-55149c1ce558",
   "metadata": {},
   "outputs": [],
   "source": [
    "import pandas as pd\n",
    "import numpy as np"
   ]
  },
  {
   "cell_type": "markdown",
   "id": "26f7431d-fb28-4b49-adca-987246ec9c0a",
   "metadata": {},
   "source": [
    "### 1.2 Preprocessing"
   ]
  },
  {
   "cell_type": "code",
   "execution_count": 2,
   "id": "8334b652-4311-4ab5-b5f2-efc28c7c3941",
   "metadata": {},
   "outputs": [],
   "source": [
    "from preprocessing import load_clean_bpa"
   ]
  },
  {
   "cell_type": "markdown",
   "id": "e8a631f0-470d-4d13-8ae2-e8f3eafe15dd",
   "metadata": {},
   "source": [
    "## 2. Constants"
   ]
  },
  {
   "cell_type": "code",
   "execution_count": 3,
   "id": "0e270ccf-cc5d-495d-8687-b5399a91ab1d",
   "metadata": {},
   "outputs": [],
   "source": [
    "FILE_NAME = 'https://raw.githubusercontent.com/TomMonks/' \\\n",
    "    + 'des_sharing_lit_review/main/data/bp_audit.zip'\n",
    "\n",
    "LICENSE_LABEL = 'license'\n",
    "NONE_LABEL = 'None'"
   ]
  },
  {
   "cell_type": "markdown",
   "id": "b6991d08-ef78-4ac5-89bb-dcfd296477ff",
   "metadata": {},
   "source": [
    "## 3. Analysis functions\n",
    "\n",
    "A number of simple functions to conduct the analysis and format output."
   ]
  },
  {
   "cell_type": "code",
   "execution_count": 4,
   "id": "414310b0-c81f-46a6-8c8e-4441af59e352",
   "metadata": {},
   "outputs": [],
   "source": [
    "def balance_of_model_format(df):\n",
    "    unique_elements, counts_elements = np.unique(df['model_format'], \n",
    "                                                 return_counts=True)\n",
    "    return unique_elements, counts_elements"
   ]
  },
  {
   "cell_type": "code",
   "execution_count": 5,
   "id": "c5737966-e6e4-412f-bd89-9b30df64ec9c",
   "metadata": {},
   "outputs": [],
   "source": [
    "def license_versus_no_license(df):\n",
    "    '''\n",
    "    Returns a tuple containined the (number of licensed models, not licensed)\n",
    "    contained with the dataset.\n",
    "    \n",
    "    Parameters:\n",
    "    -----------\n",
    "    df: pd.DataFrame\n",
    "        A dataset to analyse.  Could be full dataset or a partial subset\n",
    "        \n",
    "    Returns:\n",
    "    --------\n",
    "    tuple (int, int)\n",
    "    \n",
    "    '''\n",
    "    n_not_lincensed = len(df[df[LICENSE_LABEL]==NONE_LABEL])\n",
    "    return len(df) - n_not_lincensed, n_not_lincensed\n",
    "        "
   ]
  },
  {
   "cell_type": "code",
   "execution_count": 6,
   "id": "685b9c8e-82e4-48ff-8004-9df2a4e42d12",
   "metadata": {},
   "outputs": [],
   "source": [
    "def field_by_sharing_tools(df, field=LICENSE_LABEL):\n",
    "    '''\n",
    "    Return a DataFrame containing licenses (rows) by type of sharing\n",
    "    i.e. archive, cloud repo, journal supp , personal/org website, platform.\n",
    "    \n",
    "    Parameters:\n",
    "    -----------\n",
    "    df: pd.DataFrame\n",
    "        Contains data to analysis.  Eg.full dataset or subset\n",
    "        \n",
    "    Returns:\n",
    "    -------\n",
    "    DataFrame (9, 6)\n",
    "    '''\n",
    "    selected_columns = ['model_archive', 'model_repo', 'model_journal_supp',\n",
    "                        'model_personal_org', 'model_platform']\n",
    "    license_by_sharing = df.groupby(by=field)[selected_columns].count()\n",
    "    return license_by_sharing.sort_values(by='model_repo', \n",
    "                                          ascending=False)"
   ]
  },
  {
   "cell_type": "code",
   "execution_count": 7,
   "id": "819d1259-6cc5-4ca2-9b55-b1253ccd979a",
   "metadata": {},
   "outputs": [],
   "source": [
    "def format_license_table(df):\n",
    "    '''\n",
    "    Format the license table.\n",
    "    '''\n",
    "    column_headers = ['Archive', 'Repository', \n",
    "                      'Journal', 'Personal/org', 'Platform']\n",
    "    df.columns = column_headers\n",
    "    return df"
   ]
  },
  {
   "cell_type": "markdown",
   "id": "0b1c0313-6d4d-44d2-9777-ef8839a2c3b9",
   "metadata": {},
   "source": [
    "## 3. Load and inspect dataset\n",
    "\n",
    "The clean data set has 27 fields included.  These are listed below.  "
   ]
  },
  {
   "cell_type": "code",
   "execution_count": 8,
   "id": "1da17cf0-0f47-4520-969f-4f47d089a6fe",
   "metadata": {},
   "outputs": [
    {
     "name": "stdout",
     "output_type": "stream",
     "text": [
      "<class 'pandas.core.frame.DataFrame'>\n",
      "RangeIndex: 44 entries, 0 to 43\n",
      "Data columns (total 27 columns):\n",
      " #   Column                        Non-Null Count  Dtype   \n",
      "---  ------                        --------------  -----   \n",
      " 0   model_format                  44 non-null     category\n",
      " 1   key                           44 non-null     object  \n",
      " 2   item_type                     44 non-null     category\n",
      " 3   pub_yr                        44 non-null     int64   \n",
      " 4   author                        44 non-null     object  \n",
      " 5   doi                           43 non-null     object  \n",
      " 6   reporting_guidelines_mention  44 non-null     category\n",
      " 7   covid                         44 non-null     category\n",
      " 8   sim_software                  44 non-null     object  \n",
      " 9   foss_sim                      44 non-null     category\n",
      " 10  model_archive                 5 non-null      object  \n",
      " 11  model_repo                    20 non-null     object  \n",
      " 12  model_journal_supp            9 non-null      object  \n",
      " 13  model_personal_org            5 non-null      object  \n",
      " 14  model_platform                11 non-null     object  \n",
      " 15  github_url                    20 non-null     object  \n",
      " 16  model_has_doi                 44 non-null     category\n",
      " 17  orcid                         43 non-null     category\n",
      " 18  license                       44 non-null     object  \n",
      " 19  readme                        44 non-null     category\n",
      " 20  link_to_paper                 34 non-null     category\n",
      " 21  steps_run                     44 non-null     category\n",
      " 22  formal_dep_mgt                44 non-null     category\n",
      " 23  informal_dep_mgt              44 non-null     category\n",
      " 24  evidence_testing              23 non-null     category\n",
      " 25  downloadable                  44 non-null     category\n",
      " 26  interactive_online            44 non-null     category\n",
      "dtypes: category(15), int64(1), object(11)\n",
      "memory usage: 6.8+ KB\n"
     ]
    }
   ],
   "source": [
    "clean = load_clean_bpa(FILE_NAME)\n",
    "clean.info()"
   ]
  },
  {
   "cell_type": "markdown",
   "id": "06d5e47e-da99-46df-81c0-9e37806b7cec",
   "metadata": {},
   "source": [
    "## 4. Results\n",
    "\n",
    "## 4.1 What proportion of the share model artefacts has a DOI and guarantees on persistence?"
   ]
  },
  {
   "cell_type": "code",
   "execution_count": 9,
   "id": "d4f4f309-976e-4247-b09d-8f957e21e4e0",
   "metadata": {},
   "outputs": [
    {
     "name": "stdout",
     "output_type": "stream",
     "text": [
      "A total of 7 (15.9\\%) models were provided with a DOI.\n"
     ]
    }
   ],
   "source": [
    "unique_elements, counts_elements = np.unique(clean['model_has_doi'], \n",
    "                                                   return_counts=True)\n",
    "\n",
    "has_doi = counts_elements[1]\n",
    "has_doi_percent = (has_doi / len(clean)) * 100\n",
    "doi_result = f'A total of {has_doi} ({has_doi_percent:.1f}\\%) models ' \\\n",
    "    + 'were provided with a DOI.'\n",
    "print(doi_result)"
   ]
  },
  {
   "cell_type": "markdown",
   "id": "d92af541-090e-4a18-b30a-a4cb066158f7",
   "metadata": {},
   "source": [
    "## 4.2 What proportion of artefacts are linked to the researcher via ORCID(s)?"
   ]
  },
  {
   "cell_type": "code",
   "execution_count": 10,
   "id": "c64800d8-84aa-473b-b391-125a291718a4",
   "metadata": {},
   "outputs": [
    {
     "name": "stdout",
     "output_type": "stream",
     "text": [
      "A total of 6 (13.6\\%) models were provided were linked to a researcher via an ORCID.\n"
     ]
    }
   ],
   "source": [
    "unique_elements, counts_elements = np.unique(clean['orcid'], \n",
    "                                                   return_counts=True)\n",
    "\n",
    "has_orcid = counts_elements[1]\n",
    "has_orcid_percent = (has_orcid / len(clean)) * 100\n",
    "orcid_result = f'A total of {has_orcid} ({has_orcid_percent:.1f}\\%) models ' \\\n",
    "    + 'were provided were linked to a researcher via an ORCID.'\n",
    "print(orcid_result)"
   ]
  },
  {
   "cell_type": "markdown",
   "id": "e3915b39-ae73-4231-a8e8-0b9ae13e9d28",
   "metadata": {},
   "source": [
    "Of this small number what was the format of the model sharing."
   ]
  },
  {
   "cell_type": "code",
   "execution_count": 11,
   "id": "c96b396a-6d67-4b5b-b914-fd051c33e327",
   "metadata": {},
   "outputs": [
    {
     "name": "stdout",
     "output_type": "stream",
     "text": [
      "['CODE' 'VIM'] [3 3]\n"
     ]
    }
   ],
   "source": [
    "orcids = clean[clean['orcid'] == 1]\n",
    "model_format, counts = balance_of_model_format(orcids)\n",
    "print(model_format, counts)"
   ]
  },
  {
   "cell_type": "code",
   "execution_count": 12,
   "id": "94199160-3dfd-4ee3-8e56-0932103fe42d",
   "metadata": {},
   "outputs": [
    {
     "data": {
      "text/html": [
       "<div>\n",
       "<style scoped>\n",
       "    .dataframe tbody tr th:only-of-type {\n",
       "        vertical-align: middle;\n",
       "    }\n",
       "\n",
       "    .dataframe tbody tr th {\n",
       "        vertical-align: top;\n",
       "    }\n",
       "\n",
       "    .dataframe thead th {\n",
       "        text-align: right;\n",
       "    }\n",
       "</style>\n",
       "<table border=\"1\" class=\"dataframe\">\n",
       "  <thead>\n",
       "    <tr style=\"text-align: right;\">\n",
       "      <th></th>\n",
       "      <th>Archive</th>\n",
       "      <th>Repository</th>\n",
       "      <th>Journal</th>\n",
       "      <th>Personal/org</th>\n",
       "      <th>Platform</th>\n",
       "    </tr>\n",
       "    <tr>\n",
       "      <th>orcid</th>\n",
       "      <th></th>\n",
       "      <th></th>\n",
       "      <th></th>\n",
       "      <th></th>\n",
       "      <th></th>\n",
       "    </tr>\n",
       "  </thead>\n",
       "  <tbody>\n",
       "    <tr>\n",
       "      <th>0.0</th>\n",
       "      <td>0</td>\n",
       "      <td>0</td>\n",
       "      <td>0</td>\n",
       "      <td>0</td>\n",
       "      <td>0</td>\n",
       "    </tr>\n",
       "    <tr>\n",
       "      <th>1.0</th>\n",
       "      <td>2</td>\n",
       "      <td>0</td>\n",
       "      <td>4</td>\n",
       "      <td>0</td>\n",
       "      <td>0</td>\n",
       "    </tr>\n",
       "  </tbody>\n",
       "</table>\n",
       "</div>"
      ],
      "text/plain": [
       "       Archive  Repository  Journal  Personal/org  Platform\n",
       "orcid                                                      \n",
       "0.0          0           0        0             0         0\n",
       "1.0          2           0        4             0         0"
      ]
     },
     "execution_count": 12,
     "metadata": {},
     "output_type": "execute_result"
    }
   ],
   "source": [
    "format_license_table(field_by_sharing_tools(orcids, field='orcid'))"
   ]
  },
  {
   "cell_type": "markdown",
   "id": "4a1365c1-4dab-4756-b954-b6dcf19de161",
   "metadata": {},
   "source": [
    "## 4.3 What proportion of models have an open license?\n",
    "\n",
    "We extracted the type of license included with each shared model. When no license was included we recorded this as `None`. For one model shared as supplementary material with a journal we were unable to determine what license had been applied.  We labelled this as `Unknown`.  When a model was published as journal supplementary material we assigned the same license as applied to the paper if it was not explicitly stated.  For example, if a paper was published under a CC-BY 4.0 license and there was no explicit license attached to supplementary material we assumed the same license for the model."
   ]
  },
  {
   "cell_type": "code",
   "execution_count": 13,
   "id": "c4c895a9-68b2-4c30-87d8-ac2c8b944320",
   "metadata": {},
   "outputs": [],
   "source": [
    "licensed, not_licensed = license_versus_no_license(clean)\n",
    "per_licensed, per_not_licensed = (licensed / len(clean)) * 100, (not_licensed / len(clean)) * 100"
   ]
  },
  {
   "cell_type": "code",
   "execution_count": 14,
   "id": "194a9420-5b62-4a0c-8e89-4c55d031bcf4",
   "metadata": {},
   "outputs": [
    {
     "name": "stdout",
     "output_type": "stream",
     "text": [
      "Of the models shared a total of 21 (47.7\\%)had an open license attached.\n"
     ]
    }
   ],
   "source": [
    "license_txt = f'Of the models shared a total of {licensed} ({per_licensed:.1f}\\%)' \\\n",
    "    + 'had an open license attached.' \n",
    "\n",
    "print(license_txt)"
   ]
  },
  {
   "cell_type": "markdown",
   "id": "88b2091e-0e4d-4be8-a769-7ac346fe381c",
   "metadata": {},
   "source": [
    "## 4.4 When a model is licensed what was the most popular license?"
   ]
  },
  {
   "cell_type": "code",
   "execution_count": 15,
   "id": "fdd2ff26-9ec5-495f-8e1d-111b402987c1",
   "metadata": {},
   "outputs": [
    {
     "data": {
      "text/html": [
       "<div>\n",
       "<style scoped>\n",
       "    .dataframe tbody tr th:only-of-type {\n",
       "        vertical-align: middle;\n",
       "    }\n",
       "\n",
       "    .dataframe tbody tr th {\n",
       "        vertical-align: top;\n",
       "    }\n",
       "\n",
       "    .dataframe thead th {\n",
       "        text-align: right;\n",
       "    }\n",
       "</style>\n",
       "<table border=\"1\" class=\"dataframe\">\n",
       "  <thead>\n",
       "    <tr style=\"text-align: right;\">\n",
       "      <th></th>\n",
       "      <th>n</th>\n",
       "    </tr>\n",
       "    <tr>\n",
       "      <th>License</th>\n",
       "      <th></th>\n",
       "    </tr>\n",
       "  </thead>\n",
       "  <tbody>\n",
       "    <tr>\n",
       "      <th>CC-BY 4.0</th>\n",
       "      <td>6</td>\n",
       "    </tr>\n",
       "    <tr>\n",
       "      <th>GPL-3</th>\n",
       "      <td>5</td>\n",
       "    </tr>\n",
       "    <tr>\n",
       "      <th>MIT</th>\n",
       "      <td>3</td>\n",
       "    </tr>\n",
       "    <tr>\n",
       "      <th>Apache</th>\n",
       "      <td>1</td>\n",
       "    </tr>\n",
       "    <tr>\n",
       "      <th>BSD-3</th>\n",
       "      <td>1</td>\n",
       "    </tr>\n",
       "    <tr>\n",
       "      <th>CC BY-NC 4.0</th>\n",
       "      <td>1</td>\n",
       "    </tr>\n",
       "    <tr>\n",
       "      <th>CC BY-NC-ND 4.0</th>\n",
       "      <td>1</td>\n",
       "    </tr>\n",
       "    <tr>\n",
       "      <th>CC BY-NC-SA 4.0</th>\n",
       "      <td>1</td>\n",
       "    </tr>\n",
       "    <tr>\n",
       "      <th>CC-BY-NC 4.0</th>\n",
       "      <td>1</td>\n",
       "    </tr>\n",
       "    <tr>\n",
       "      <th>Unknown</th>\n",
       "      <td>1</td>\n",
       "    </tr>\n",
       "  </tbody>\n",
       "</table>\n",
       "</div>"
      ],
      "text/plain": [
       "                 n\n",
       "License           \n",
       "CC-BY 4.0        6\n",
       "GPL-3            5\n",
       "MIT              3\n",
       "Apache           1\n",
       "BSD-3            1\n",
       "CC BY-NC 4.0     1\n",
       "CC BY-NC-ND 4.0  1\n",
       "CC BY-NC-SA 4.0  1\n",
       "CC-BY-NC 4.0     1\n",
       "Unknown          1"
      ]
     },
     "execution_count": 15,
     "metadata": {},
     "output_type": "execute_result"
    }
   ],
   "source": [
    "licenses, n_license = np.unique(clean[LICENSE_LABEL], \n",
    "                               return_counts=True)\n",
    "\n",
    "license_results = pd.concat([pd.Series(licenses), pd.Series(n_license)], axis=1)\n",
    "license_results.columns = ['License', 'n']     \n",
    "license_results = license_results.set_index('License')\n",
    "# drop none from the results\n",
    "license_results = license_results.drop(NONE_LABEL)\n",
    "license_results.sort_values(by='n', ascending=False)"
   ]
  },
  {
   "cell_type": "markdown",
   "id": "972399bf-ad59-46c9-afd0-af1f20ed2c00",
   "metadata": {},
   "source": [
    "Creative Commons (CC) type licenses are the most popular overall."
   ]
  },
  {
   "cell_type": "code",
   "execution_count": 16,
   "id": "83e98505-2535-4606-a07e-3e7eef14c966",
   "metadata": {},
   "outputs": [
    {
     "name": "stdout",
     "output_type": "stream",
     "text": [
      "10\n"
     ]
    }
   ],
   "source": [
    "cc_licenses = [x for x in license_results.index if x[:2] == 'CC']\n",
    "n_cc_licenses = license_results.loc[cc_licenses].sum()[0]\n",
    "print(n_cc_licenses)"
   ]
  },
  {
   "cell_type": "code",
   "execution_count": 17,
   "id": "bf27f81b-6937-492e-bb66-c358a0a55ec4",
   "metadata": {},
   "outputs": [
    {
     "name": "stdout",
     "output_type": "stream",
     "text": [
      "The most popular type of license were the creative commons variants with a total of 10 out of 44 models.\n"
     ]
    }
   ],
   "source": [
    "pop_license = 'The most popular type of license were the creative commons variants' \\\n",
    "              + f' with a total of {n_cc_licenses} out of {clean.shape[0]} models.'\n",
    "print(pop_license)                                                                "
   ]
  },
  {
   "cell_type": "markdown",
   "id": "7ad77220-05b5-463b-a223-53a0dd025332",
   "metadata": {},
   "source": [
    "## 4.5 How do licenses relate to approaches to sharing models?\n",
    "\n",
    "> Note that our results reflect that models might be shared by a combination of approaches.  For example Zenodo + Github.  The license may be attached to one e.g. Zenodo, but not visible in another e.g. Github."
   ]
  },
  {
   "cell_type": "code",
   "execution_count": 18,
   "id": "a5c59ab4-1666-49b1-a5fd-5eb15e0988fb",
   "metadata": {},
   "outputs": [
    {
     "data": {
      "text/html": [
       "<div>\n",
       "<style scoped>\n",
       "    .dataframe tbody tr th:only-of-type {\n",
       "        vertical-align: middle;\n",
       "    }\n",
       "\n",
       "    .dataframe tbody tr th {\n",
       "        vertical-align: top;\n",
       "    }\n",
       "\n",
       "    .dataframe thead th {\n",
       "        text-align: right;\n",
       "    }\n",
       "</style>\n",
       "<table border=\"1\" class=\"dataframe\">\n",
       "  <thead>\n",
       "    <tr style=\"text-align: right;\">\n",
       "      <th></th>\n",
       "      <th>Archive</th>\n",
       "      <th>Repository</th>\n",
       "      <th>Journal</th>\n",
       "      <th>Personal/org</th>\n",
       "      <th>Platform</th>\n",
       "    </tr>\n",
       "    <tr>\n",
       "      <th>license</th>\n",
       "      <th></th>\n",
       "      <th></th>\n",
       "      <th></th>\n",
       "      <th></th>\n",
       "      <th></th>\n",
       "    </tr>\n",
       "  </thead>\n",
       "  <tbody>\n",
       "    <tr>\n",
       "      <th>None</th>\n",
       "      <td>0</td>\n",
       "      <td>12</td>\n",
       "      <td>3</td>\n",
       "      <td>5</td>\n",
       "      <td>6</td>\n",
       "    </tr>\n",
       "    <tr>\n",
       "      <th>GPL-3</th>\n",
       "      <td>0</td>\n",
       "      <td>3</td>\n",
       "      <td>0</td>\n",
       "      <td>0</td>\n",
       "      <td>2</td>\n",
       "    </tr>\n",
       "    <tr>\n",
       "      <th>MIT</th>\n",
       "      <td>1</td>\n",
       "      <td>3</td>\n",
       "      <td>0</td>\n",
       "      <td>0</td>\n",
       "      <td>1</td>\n",
       "    </tr>\n",
       "    <tr>\n",
       "      <th>Apache</th>\n",
       "      <td>0</td>\n",
       "      <td>1</td>\n",
       "      <td>0</td>\n",
       "      <td>0</td>\n",
       "      <td>0</td>\n",
       "    </tr>\n",
       "    <tr>\n",
       "      <th>BSD-3</th>\n",
       "      <td>1</td>\n",
       "      <td>1</td>\n",
       "      <td>0</td>\n",
       "      <td>0</td>\n",
       "      <td>0</td>\n",
       "    </tr>\n",
       "    <tr>\n",
       "      <th>CC BY-NC 4.0</th>\n",
       "      <td>0</td>\n",
       "      <td>0</td>\n",
       "      <td>0</td>\n",
       "      <td>0</td>\n",
       "      <td>1</td>\n",
       "    </tr>\n",
       "    <tr>\n",
       "      <th>CC BY-NC-ND 4.0</th>\n",
       "      <td>0</td>\n",
       "      <td>0</td>\n",
       "      <td>1</td>\n",
       "      <td>0</td>\n",
       "      <td>0</td>\n",
       "    </tr>\n",
       "    <tr>\n",
       "      <th>CC BY-NC-SA 4.0</th>\n",
       "      <td>0</td>\n",
       "      <td>0</td>\n",
       "      <td>0</td>\n",
       "      <td>0</td>\n",
       "      <td>1</td>\n",
       "    </tr>\n",
       "    <tr>\n",
       "      <th>CC-BY 4.0</th>\n",
       "      <td>3</td>\n",
       "      <td>0</td>\n",
       "      <td>3</td>\n",
       "      <td>0</td>\n",
       "      <td>0</td>\n",
       "    </tr>\n",
       "    <tr>\n",
       "      <th>CC-BY-NC 4.0</th>\n",
       "      <td>0</td>\n",
       "      <td>0</td>\n",
       "      <td>1</td>\n",
       "      <td>0</td>\n",
       "      <td>0</td>\n",
       "    </tr>\n",
       "    <tr>\n",
       "      <th>Unknown</th>\n",
       "      <td>0</td>\n",
       "      <td>0</td>\n",
       "      <td>1</td>\n",
       "      <td>0</td>\n",
       "      <td>0</td>\n",
       "    </tr>\n",
       "  </tbody>\n",
       "</table>\n",
       "</div>"
      ],
      "text/plain": [
       "                 Archive  Repository  Journal  Personal/org  Platform\n",
       "license                                                              \n",
       "None                   0          12        3             5         6\n",
       "GPL-3                  0           3        0             0         2\n",
       "MIT                    1           3        0             0         1\n",
       "Apache                 0           1        0             0         0\n",
       "BSD-3                  1           1        0             0         0\n",
       "CC BY-NC 4.0           0           0        0             0         1\n",
       "CC BY-NC-ND 4.0        0           0        1             0         0\n",
       "CC BY-NC-SA 4.0        0           0        0             0         1\n",
       "CC-BY 4.0              3           0        3             0         0\n",
       "CC-BY-NC 4.0           0           0        1             0         0\n",
       "Unknown                0           0        1             0         0"
      ]
     },
     "execution_count": 18,
     "metadata": {},
     "output_type": "execute_result"
    }
   ],
   "source": [
    "format_license_table(field_by_sharing_tools(clean))"
   ]
  },
  {
   "cell_type": "markdown",
   "id": "b4b4ad8c-b23b-4338-804a-9d22a8a4eaa5",
   "metadata": {},
   "source": [
    "# 5. Summary of results"
   ]
  },
  {
   "cell_type": "code",
   "execution_count": 19,
   "id": "585a96dd-28aa-4ea3-8a15-3d2c0e5bc63c",
   "metadata": {},
   "outputs": [
    {
     "name": "stdout",
     "output_type": "stream",
     "text": [
      "A total of 7 (15.9\\%) models were provided with a DOI. A total of 6 (13.6\\%) models were provided were linked to a researcher via an ORCID. Of the models shared a total of 21 (47.7\\%)had an open license attached. The most popular type of license were the creative commons variants with a total of 10 out of 44 models.\n"
     ]
    }
   ],
   "source": [
    "summary_txt = doi_result + ' ' + orcid_result + ' ' + license_txt + ' ' + pop_license\n",
    "print(summary_txt)"
   ]
  },
  {
   "cell_type": "markdown",
   "id": "6be6b242-c2ce-4ba8-a4c9-1dd1a3e216d6",
   "metadata": {},
   "source": [
    "Section 4.5 illustrates that the majority of the models are shared via a cloud hosted code repository (e.g. github) do not have an open license.  This means the author has exclusive copyright and the code cannot legally be reused by anyone.  There are some minor exceptions; for example, code on GitHubs can be viewed and forked, but not edited or used. The majority of the remaining models also have no license (one in journal supplementary material is marked as an unknown as its unclear from the journal if it is open or not) including six that sit in a cloud platform.  CC-BY type licenses are supplied with eight models.  The Turing way considers these to be less suitable for data science artefacts such as code and models and recommends licenses such as GPL-3 or MIT.  One model was shared with a CC BY-NC-ND 4.0 i.e no derivative works."
   ]
  }
 ],
 "metadata": {
  "kernelspec": {
   "display_name": "Python 3 (ipykernel)",
   "language": "python",
   "name": "python3"
  },
  "language_info": {
   "codemirror_mode": {
    "name": "ipython",
    "version": 3
   },
   "file_extension": ".py",
   "mimetype": "text/x-python",
   "name": "python",
   "nbconvert_exporter": "python",
   "pygments_lexer": "ipython3",
   "version": "3.9.15"
  }
 },
 "nbformat": 4,
 "nbformat_minor": 5
}
