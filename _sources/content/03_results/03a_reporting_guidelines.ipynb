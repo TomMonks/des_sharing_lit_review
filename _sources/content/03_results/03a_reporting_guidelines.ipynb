{
 "cells": [
  {
   "cell_type": "markdown",
   "id": "c6068afb",
   "metadata": {},
   "source": [
    "# Use of reporting guidelines\n",
    "\n",
    "### Primary research questions:\n",
    "\n",
    "These results presented in this notebook the following questions\n",
    "\n",
    "6. What proportion of studies make use of a reporting guideline?"
   ]
  },
  {
   "cell_type": "markdown",
   "id": "3a034af2",
   "metadata": {},
   "source": [
    "## 1. Imports "
   ]
  },
  {
   "cell_type": "code",
   "execution_count": 1,
   "id": "45a52a14",
   "metadata": {},
   "outputs": [],
   "source": [
    "import pandas as pd\n",
    "import numpy as np\n",
    "import matplotlib.pyplot as plt"
   ]
  },
  {
   "cell_type": "code",
   "execution_count": 2,
   "id": "b2c8c53b-036c-476d-8fa9-d7d4573b0e27",
   "metadata": {},
   "outputs": [],
   "source": [
    "## Imports from preprocessing module\n",
    "from preprocessing import load_clean_dataset"
   ]
  },
  {
   "cell_type": "markdown",
   "id": "67a596c0",
   "metadata": {},
   "source": [
    "## 2. Constants"
   ]
  },
  {
   "cell_type": "code",
   "execution_count": 3,
   "id": "195aa1fa",
   "metadata": {},
   "outputs": [],
   "source": [
    "FILE_NAME = 'https://raw.githubusercontent.com/TomMonks/' \\\n",
    "    + 'des_sharing_lit_review/main/data/share_sim_data_extract.zip'\n",
    "\n",
    "RG_LABEL = 'reporting_guidelines_mention'\n",
    "NONE = 'None'"
   ]
  },
  {
   "cell_type": "markdown",
   "id": "ea389a17-9d5a-49be-9a67-a40075aa1647",
   "metadata": {
    "tags": []
   },
   "source": [
    "## 3. Functions"
   ]
  },
  {
   "cell_type": "code",
   "execution_count": 4,
   "id": "5d3abf4e",
   "metadata": {},
   "outputs": [],
   "source": [
    "def reporting_guideline_summary(df_clean, exclude_none=True):\n",
    "    '''\n",
    "    For studies included, summarise reporting guidelines.\n",
    "    Returned as name; n; % of included table\n",
    "    \n",
    "    Params:\n",
    "    ------\n",
    "    df_clean; pd.DataFrame\n",
    "        All papers\n",
    "        \n",
    "    exclude_none: bool, optional (default=True)\n",
    "        Excludes the row for \"None\" i.e. no reporting guideline mention\n",
    "        \n",
    "    Returns:\n",
    "    -------\n",
    "    pd.DataFrame\n",
    "    '''\n",
    "    # restrict to included studies only\n",
    "    included = df_clean[df_clean['study_included'] == 1]\n",
    "    \n",
    "    # exclude or include 'None'\n",
    "    if exclude_none:\n",
    "        report_guidelines = included[included[RG_LABEL] != NONE]\n",
    "    else:\n",
    "        reporting_guidelines = included\n",
    "        \n",
    "    # frequency + percentage\n",
    "    counts = report_guidelines.groupby([RG_LABEL])['key'] \\\n",
    "        .count().sort_values(ascending=False)\n",
    "    percentages = counts / len(included)\n",
    "    \n",
    "    # summary table\n",
    "    summary = pd.concat([counts, (percentages * 100).round(1)], axis=1)\n",
    "    summary.columns = ['n', '% of included']\n",
    "    summary = summary.drop(NONE, axis=0)\n",
    "    return summary.sort_values(by=['n'], ascending=False)"
   ]
  },
  {
   "cell_type": "code",
   "execution_count": 5,
   "id": "7c73d2c9-43c9-4b21-b435-d11291b15d91",
   "metadata": {},
   "outputs": [],
   "source": [
    "def guidelines_by_subset(df_clean, field, column_label):\n",
    "    subset = df_clean[df_clean[field] == 1]\n",
    "    summary = reporting_guideline_summary(subset)\n",
    "    summary.columns = [column_label, '% of included']\n",
    "    return summary\n",
    "    "
   ]
  },
  {
   "cell_type": "markdown",
   "id": "33672ad4-a028-4435-adb3-749ddc219e9c",
   "metadata": {},
   "source": [
    "## 4. Read in data"
   ]
  },
  {
   "cell_type": "code",
   "execution_count": 6,
   "id": "857e5149-7c7d-4a86-b499-0acf9bd15908",
   "metadata": {},
   "outputs": [],
   "source": [
    "clean = load_clean_dataset(FILE_NAME)"
   ]
  },
  {
   "cell_type": "markdown",
   "id": "727c8ba3-160b-49d1-ac11-ccf3248ca3d6",
   "metadata": {},
   "source": [
    "## 5. Results\n",
    "\n",
    "### 5.1 Create a high level summary of the reporting guidelines used."
   ]
  },
  {
   "cell_type": "code",
   "execution_count": 7,
   "id": "6421c9ab-c7ce-4f7e-9fe1-67feb7370859",
   "metadata": {},
   "outputs": [
    {
     "data": {
      "text/html": [
       "<div>\n",
       "<style scoped>\n",
       "    .dataframe tbody tr th:only-of-type {\n",
       "        vertical-align: middle;\n",
       "    }\n",
       "\n",
       "    .dataframe tbody tr th {\n",
       "        vertical-align: top;\n",
       "    }\n",
       "\n",
       "    .dataframe thead th {\n",
       "        text-align: right;\n",
       "    }\n",
       "</style>\n",
       "<table border=\"1\" class=\"dataframe\">\n",
       "  <thead>\n",
       "    <tr style=\"text-align: right;\">\n",
       "      <th></th>\n",
       "      <th>n</th>\n",
       "      <th>% of included</th>\n",
       "    </tr>\n",
       "    <tr>\n",
       "      <th>reporting_guidelines_mention</th>\n",
       "      <th></th>\n",
       "      <th></th>\n",
       "    </tr>\n",
       "  </thead>\n",
       "  <tbody>\n",
       "    <tr>\n",
       "      <th>ISPOR</th>\n",
       "      <td>36</td>\n",
       "      <td>6.5</td>\n",
       "    </tr>\n",
       "    <tr>\n",
       "      <th>STRESS</th>\n",
       "      <td>21</td>\n",
       "      <td>3.8</td>\n",
       "    </tr>\n",
       "    <tr>\n",
       "      <th>CHEERS</th>\n",
       "      <td>8</td>\n",
       "      <td>1.4</td>\n",
       "    </tr>\n",
       "    <tr>\n",
       "      <th>SQUIRE</th>\n",
       "      <td>2</td>\n",
       "      <td>0.4</td>\n",
       "    </tr>\n",
       "    <tr>\n",
       "      <th>ODD</th>\n",
       "      <td>1</td>\n",
       "      <td>0.2</td>\n",
       "    </tr>\n",
       "    <tr>\n",
       "      <th>Sanders et al.</th>\n",
       "      <td>1</td>\n",
       "      <td>0.2</td>\n",
       "    </tr>\n",
       "    <tr>\n",
       "      <th>Zhang et al.</th>\n",
       "      <td>1</td>\n",
       "      <td>0.2</td>\n",
       "    </tr>\n",
       "  </tbody>\n",
       "</table>\n",
       "</div>"
      ],
      "text/plain": [
       "                               n  % of included\n",
       "reporting_guidelines_mention                   \n",
       "ISPOR                         36            6.5\n",
       "STRESS                        21            3.8\n",
       "CHEERS                         8            1.4\n",
       "SQUIRE                         2            0.4\n",
       "ODD                            1            0.2\n",
       "Sanders et al.                 1            0.2\n",
       "Zhang et al.                   1            0.2"
      ]
     },
     "execution_count": 7,
     "metadata": {},
     "output_type": "execute_result"
    }
   ],
   "source": [
    "# overall\n",
    "overall_summary = reporting_guideline_summary(clean)\n",
    "overall_summary"
   ]
  },
  {
   "cell_type": "markdown",
   "id": "e1dd202b-d05a-47d5-b7e8-ff4209f9ff71",
   "metadata": {},
   "source": [
    "The most frequent guidelines used were ISPOR; typically within papers publishing DES models used in a cost effectiveness study."
   ]
  },
  {
   "cell_type": "code",
   "execution_count": 8,
   "id": "c8b6997a-8230-4a13-a147-ae1b27d8577d",
   "metadata": {},
   "outputs": [
    {
     "data": {
      "text/html": [
       "<div>\n",
       "<style scoped>\n",
       "    .dataframe tbody tr th:only-of-type {\n",
       "        vertical-align: middle;\n",
       "    }\n",
       "\n",
       "    .dataframe tbody tr th {\n",
       "        vertical-align: top;\n",
       "    }\n",
       "\n",
       "    .dataframe thead th {\n",
       "        text-align: right;\n",
       "    }\n",
       "</style>\n",
       "<table border=\"1\" class=\"dataframe\">\n",
       "  <thead>\n",
       "    <tr style=\"text-align: right;\">\n",
       "      <th></th>\n",
       "      <th>Covid</th>\n",
       "      <th>% of included</th>\n",
       "    </tr>\n",
       "    <tr>\n",
       "      <th>reporting_guidelines_mention</th>\n",
       "      <th></th>\n",
       "      <th></th>\n",
       "    </tr>\n",
       "  </thead>\n",
       "  <tbody>\n",
       "    <tr>\n",
       "      <th>STRESS</th>\n",
       "      <td>8</td>\n",
       "      <td>12.1</td>\n",
       "    </tr>\n",
       "    <tr>\n",
       "      <th>CHEERS</th>\n",
       "      <td>1</td>\n",
       "      <td>1.5</td>\n",
       "    </tr>\n",
       "    <tr>\n",
       "      <th>ISPOR</th>\n",
       "      <td>0</td>\n",
       "      <td>0.0</td>\n",
       "    </tr>\n",
       "    <tr>\n",
       "      <th>ODD</th>\n",
       "      <td>0</td>\n",
       "      <td>0.0</td>\n",
       "    </tr>\n",
       "    <tr>\n",
       "      <th>SQUIRE</th>\n",
       "      <td>0</td>\n",
       "      <td>0.0</td>\n",
       "    </tr>\n",
       "    <tr>\n",
       "      <th>Sanders et al.</th>\n",
       "      <td>0</td>\n",
       "      <td>0.0</td>\n",
       "    </tr>\n",
       "    <tr>\n",
       "      <th>Zhang et al.</th>\n",
       "      <td>0</td>\n",
       "      <td>0.0</td>\n",
       "    </tr>\n",
       "  </tbody>\n",
       "</table>\n",
       "</div>"
      ],
      "text/plain": [
       "                              Covid  % of included\n",
       "reporting_guidelines_mention                      \n",
       "STRESS                            8           12.1\n",
       "CHEERS                            1            1.5\n",
       "ISPOR                             0            0.0\n",
       "ODD                               0            0.0\n",
       "SQUIRE                            0            0.0\n",
       "Sanders et al.                    0            0.0\n",
       "Zhang et al.                      0            0.0"
      ]
     },
     "execution_count": 8,
     "metadata": {},
     "output_type": "execute_result"
    }
   ],
   "source": [
    "# covid only?\n",
    "guidelines_by_subset(clean, 'covid', 'Covid')"
   ]
  },
  {
   "cell_type": "markdown",
   "id": "e716fa41-124c-4dfe-9ca8-3986e9af6eeb",
   "metadata": {},
   "source": [
    "### 5.2 What proportion overall made use of any reporting guideline?"
   ]
  },
  {
   "cell_type": "code",
   "execution_count": 9,
   "id": "33a18e9d-8836-480f-b0ff-7eef84beed8b",
   "metadata": {},
   "outputs": [
    {
     "name": "stdout",
     "output_type": "stream",
     "text": [
      "A total of 70 (12.5\\%) studies used models published in articles that mentioned a known simulation reporting guideline or checklist.\n"
     ]
    }
   ],
   "source": [
    "n_reporting = overall_summary['n'].sum() \n",
    "total_included = len(clean[clean['study_included'] == 1])\n",
    "per_reporting = (n_reporting / total_included) * 100\n",
    "\n",
    "txt = f'A total of {n_reporting} ({per_reporting:.1f}\\%) studies used models' \\\n",
    "        + f' published in articles that mentioned a known simulation' \\\n",
    "        + ' reporting guideline or checklist.'\n",
    "    \n",
    "print(txt)"
   ]
  }
 ],
 "metadata": {
  "kernelspec": {
   "display_name": "Python 3 (ipykernel)",
   "language": "python",
   "name": "python3"
  },
  "language_info": {
   "codemirror_mode": {
    "name": "ipython",
    "version": 3
   },
   "file_extension": ".py",
   "mimetype": "text/x-python",
   "name": "python",
   "nbconvert_exporter": "python",
   "pygments_lexer": "ipython3",
   "version": "3.9.15"
  }
 },
 "nbformat": 4,
 "nbformat_minor": 5
}
